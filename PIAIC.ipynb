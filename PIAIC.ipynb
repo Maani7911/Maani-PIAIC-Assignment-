{
  "nbformat": 4,
  "nbformat_minor": 0,
  "metadata": {
    "colab": {
      "name": "assignment",
      "provenance": [],
      "collapsed_sections": [],
      "authorship_tag": "ABX9TyNANno3Wv2zCjSGLrdzjCS4",
      "include_colab_link": true
    },
    "kernelspec": {
      "name": "python3",
      "display_name": "Python 3"
    },
    "language_info": {
      "name": "python"
    }
  },
  "cells": [
    {
      "cell_type": "markdown",
      "metadata": {
        "id": "view-in-github",
        "colab_type": "text"
      },
      "source": [
        "<a href=\"https://colab.research.google.com/github/Maani7911/ipynb/blob/main/PIAIC.ipynb\" target=\"_parent\"><img src=\"https://colab.research.google.com/assets/colab-badge.svg\" alt=\"Open In Colab\"/></a>"
      ]
    },
    {
      "cell_type": "markdown",
      "source": [
        "***Variables and Strings***"
      ],
      "metadata": {
        "id": "CUOsgc5toT1a"
      }
    },
    {
      "cell_type": "code",
      "execution_count": null,
      "metadata": {
        "colab": {
          "base_uri": "https://localhost:8080/"
        },
        "id": "1UCoKuAFWu-k",
        "outputId": "4713d946-5809-4bea-a075-b56e5c6e7a79"
      },
      "outputs": [
        {
          "output_type": "stream",
          "name": "stdout",
          "text": [
            "your assignment has been done\n"
          ]
        }
      ],
      "source": [
        "b = \"your assignment has been done\"\n",
        "print(b)"
      ]
    },
    {
      "cell_type": "code",
      "source": [
        "quote = 'Quaid-e-Azam once said , \" Work , Work and work and we are bound to success;\\n\\t   There is no power on earth that can undo Pakistan;\\n\\t\"'\n",
        "print(quote)"
      ],
      "metadata": {
        "colab": {
          "base_uri": "https://localhost:8080/"
        },
        "id": "jLPIqDgAXJPZ",
        "outputId": "2d375aa3-eaba-4a91-f0e9-3c045539c494"
      },
      "execution_count": null,
      "outputs": [
        {
          "output_type": "stream",
          "name": "stdout",
          "text": [
            "Quaid-e-Azam once said , \" Work , Work and work and we are bound to success;\n",
            "\t   There is no power on earth that can undo Pakistan;\n",
            "\t\"\n"
          ]
        }
      ]
    },
    {
      "cell_type": "markdown",
      "source": [
        "***Calculate Area of a Circle::***\n",
        "\n"
      ],
      "metadata": {
        "id": "rkQy4eQHmMnw"
      }
    },
    {
      "cell_type": "code",
      "source": [
        "r = float(input(\"Enter radius of circle : \"))\n",
        "area = (3.142*r**2)\n",
        "print(\"AREA OF CIRCLE : \",area)\n"
      ],
      "metadata": {
        "colab": {
          "base_uri": "https://localhost:8080/"
        },
        "id": "Ff5XvPqaW931",
        "outputId": "a345cf74-20c0-4e38-bdfa-fc2e9a30f8b5"
      },
      "execution_count": null,
      "outputs": [
        {
          "output_type": "stream",
          "name": "stdout",
          "text": [
            "Enter radius of circle : 8\n",
            "AREA OF CIRCLE :  201.088\n"
          ]
        }
      ]
    },
    {
      "cell_type": "markdown",
      "source": [
        "***1.Check Number either positive, negative or zero::***"
      ],
      "metadata": {
        "id": "bd51DtcRomFW"
      }
    },
    {
      "cell_type": "code",
      "source": [
        "num = float(input(\"Enter a number : \"))\n",
        "if num==0:\n",
        "    print(\"zero is not a positive and negative number\")\n",
        "elif num<0:\n",
        "    print(\"you entered a negative number\")\n",
        "elif num>0:\n",
        "    print(\"you entered a positive number\")\n",
        "    "
      ],
      "metadata": {
        "colab": {
          "base_uri": "https://localhost:8080/"
        },
        "id": "9_HXJhh9ZwF-",
        "outputId": "bd751bf3-fa05-4e57-c124-3686424dc60b"
      },
      "execution_count": null,
      "outputs": [
        {
          "output_type": "stream",
          "name": "stdout",
          "text": [
            "Enter a number : -8\n",
            "you entered a negative number\n"
          ]
        }
      ]
    },
    {
      "cell_type": "markdown",
      "source": [
        "***Vowel or consonants:***"
      ],
      "metadata": {
        "id": "tMjOU42noAw-"
      }
    },
    {
      "cell_type": "code",
      "source": [
        "v = input(\"enter any alphabet \")\n",
        "vowel = [\"a\" , \"A\" ,\"e\" , \"E\" , \"i\" , \"I\" , \"o\" , \"O\" , \"u\" , \"U\" ]\n",
        "if v in vowel:\n",
        "    print(\"is a vowel\")\n",
        "else:\n",
        "    print(\"is a consonants\") "
      ],
      "metadata": {
        "colab": {
          "base_uri": "https://localhost:8080/"
        },
        "id": "MG9t5lshZ8um",
        "outputId": "bec98970-bd77-4a10-922b-9dac09c56eea"
      },
      "execution_count": null,
      "outputs": [
        {
          "output_type": "stream",
          "name": "stdout",
          "text": [
            "enter any alphabet h\n",
            "is a consonants\n"
          ]
        }
      ]
    },
    {
      "cell_type": "markdown",
      "source": [
        "***BMI Calculator::***"
      ],
      "metadata": {
        "id": "KgsXkRInosDq"
      }
    },
    {
      "cell_type": "code",
      "source": [
        "height_in_cm= float(input(\"Enter your  Height in Cm:\"))\n",
        "weight= float(input(\"Enter your weight in Kg:\"))\n",
        "height_in_m= height_in_cm/100\n",
        "bmi = (weight/height_in_m**2)\n",
        "print(\"Your BMI is \",bmi)\n"
      ],
      "metadata": {
        "colab": {
          "base_uri": "https://localhost:8080/"
        },
        "id": "W_wx5vv3aB7o",
        "outputId": "ab543699-db1a-48ee-e51e-4e628ab5ffc7"
      },
      "execution_count": null,
      "outputs": [
        {
          "output_type": "stream",
          "name": "stdout",
          "text": [
            "Enter your  Height in Cm:182\n",
            "Enter your weight in Kg:67\n",
            "Your BMI is  20.227025721531216\n"
          ]
        }
      ]
    },
    {
      "cell_type": "markdown",
      "source": [
        "***Store the names of a few of your friends in a list called names::***"
      ],
      "metadata": {
        "id": "zau42bLSoxqq"
      }
    },
    {
      "cell_type": "code",
      "source": [
        "names = (\"Hanzala\" , \"Usman\" , \"Muntaha\" , \"Basit\" , \"Rustam\" )\n",
        "print(names[0])\n",
        "print(names[1])\n",
        "print(names[2])\n",
        "print(names[3])\n",
        "print(names[4])\n"
      ],
      "metadata": {
        "colab": {
          "base_uri": "https://localhost:8080/"
        },
        "id": "Bvju6Uo0aNEg",
        "outputId": "9c1118c8-c9e5-4176-822a-98953d5aa54c"
      },
      "execution_count": null,
      "outputs": [
        {
          "output_type": "stream",
          "name": "stdout",
          "text": [
            "Hanzala\n",
            "Usman\n",
            "Muntaha\n",
            "Basit\n",
            "Rustam\n"
          ]
        }
      ]
    },
    {
      "cell_type": "code",
      "source": [
        "names = (\"Hanzala\" , \"Usman\" , \"Muntaha\" , \"Basit\" , \"Rustam\" )\n",
        "print(names[0], \"is a great footballer\")\n",
        "print(names[1], \"is a gamer\")\n",
        "print(names[2], \"is a cricketer\")\n",
        "print(names[3], \"is a rider\")\n",
        "print(names[4], \"is a builder\")\n"
      ],
      "metadata": {
        "colab": {
          "base_uri": "https://localhost:8080/"
        },
        "id": "AE3M_zZpaeP1",
        "outputId": "f31fd5ff-3ab1-40d5-9d41-35e6a307b727"
      },
      "execution_count": null,
      "outputs": [
        {
          "output_type": "stream",
          "name": "stdout",
          "text": [
            "Hanzala is a great footballer\n",
            "Usman is a gamer\n",
            "Muntaha is a cricketer\n",
            "Basit is a rider\n",
            "Rustam is a builder\n"
          ]
        }
      ]
    },
    {
      "cell_type": "markdown",
      "source": [
        "***Make a python program that conatains your nine favourite dishes in a list called foods***.\n",
        "\n",
        "\n",
        "\n"
      ],
      "metadata": {
        "id": "d6vl1BnupCWg"
      }
    },
    {
      "cell_type": "code",
      "source": [
        "foods = (\"Halwa poori\" , \"Parathe\" , \"Omellete\" , \"Sandwich\" , \"Biryani\" , \"Pulao\" , \"Pasta\" , \"Burger\" , \"Karahi\"  )\n",
        "print(\"these are the best for the breakfast\" , foods[0:3])\n",
        "print(\"these are the best choice for the lunch\" , foods[3:6])\n",
        "print(\"these are the best menu for the dinner\" , foods[6:9])"
      ],
      "metadata": {
        "colab": {
          "base_uri": "https://localhost:8080/"
        },
        "id": "v0Fm9EBUah9w",
        "outputId": "623d4912-296b-4306-d479-ca27cb96520a"
      },
      "execution_count": null,
      "outputs": [
        {
          "output_type": "stream",
          "name": "stdout",
          "text": [
            "these are the best for the breakfast ('Halwa poori', 'Parathe', 'Omellete')\n",
            "these are the best choice for the lunch ('Sandwich', 'Biryani', 'Pulao')\n",
            "these are the best menu for the dinner ('Pasta', 'Burger', 'Karahi')\n"
          ]
        }
      ]
    },
    {
      "cell_type": "code",
      "source": [
        "foods = ['Halwa poori' , 'Parathe' , 'Omellete' , 'Sandwich' , 'Biryani' , 'Pulao' , 'Pasta' , 'Burger' , 'Karahi' , 'Pizza' ]\n",
        "peeps_menu=foods[0:9]\n",
        "\n",
        "print(foods)\n",
        "print(peeps_menu)\n",
        "foods.append(\"soft drinks\")\n",
        "peeps_menu.append(\"salad\")\n",
        "print(\"My favourite foods are : \")\n",
        "for items in foods:\n",
        "  print(items)\n",
        "print(\"My friend foods are\")\n",
        "for items in peeps_menu:\n",
        "  print(items)  "
      ],
      "metadata": {
        "colab": {
          "base_uri": "https://localhost:8080/"
        },
        "id": "K6VY06teax1A",
        "outputId": "e61b9ee6-3318-4120-c354-5c1ef84a6c37"
      },
      "execution_count": null,
      "outputs": [
        {
          "output_type": "stream",
          "name": "stdout",
          "text": [
            "['Halwa poori', 'Parathe', 'Omellete', 'Sandwich', 'Biryani', 'Pulao', 'Pasta', 'Burger', 'Karahi', 'Pizza']\n",
            "['Halwa poori', 'Parathe', 'Omellete', 'Sandwich', 'Biryani', 'Pulao', 'Pasta', 'Burger', 'Karahi']\n",
            "My favourite foods are : \n",
            "Halwa poori\n",
            "Parathe\n",
            "Omellete\n",
            "Sandwich\n",
            "Biryani\n",
            "Pulao\n",
            "Pasta\n",
            "Burger\n",
            "Karahi\n",
            "Pizza\n",
            "soft drinks\n",
            "My friend foods are\n",
            "Halwa poori\n",
            "Parathe\n",
            "Omellete\n",
            "Sandwich\n",
            "Biryani\n",
            "Pulao\n",
            "Pasta\n",
            "Burger\n",
            "Karahi\n",
            "salad\n"
          ]
        }
      ]
    },
    {
      "cell_type": "code",
      "source": [],
      "metadata": {
        "id": "gaWb-h-SjI52"
      },
      "execution_count": null,
      "outputs": []
    }
  ]
}